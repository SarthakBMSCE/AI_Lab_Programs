{
  "nbformat": 4,
  "nbformat_minor": 0,
  "metadata": {
    "colab": {
      "provenance": [],
      "authorship_tag": "ABX9TyPU/wsbRLWba6WV0onp5Vbc",
      "include_colab_link": true
    },
    "kernelspec": {
      "name": "python3",
      "display_name": "Python 3"
    },
    "language_info": {
      "name": "python"
    }
  },
  "cells": [
    {
      "cell_type": "markdown",
      "metadata": {
        "id": "view-in-github",
        "colab_type": "text"
      },
      "source": [
        "<a href=\"https://colab.research.google.com/github/SarthakBMSCE/AI_Lab_Programs/blob/main/1BM22CS352_Vacuum_Cleaner_Agent.ipynb\" target=\"_parent\"><img src=\"https://colab.research.google.com/assets/colab-badge.svg\" alt=\"Open In Colab\"/></a>"
      ]
    },
    {
      "cell_type": "code",
      "execution_count": 1,
      "metadata": {
        "colab": {
          "base_uri": "https://localhost:8080/"
        },
        "id": "sV1cate7votH",
        "outputId": "3c4fec21-65b7-4ffa-de76-c33674451774"
      },
      "outputs": [
        {
          "output_type": "stream",
          "name": "stdout",
          "text": [
            "Enter state for room A, 0 for clean and 1 for dirty 0\n",
            "Enter state for room B, 0 for clean and 1 for dirty 0\n",
            "Enter start position, 0 for room A, 1 for room B 1\n",
            "Room B is already clean.\n",
            "Room A is already clean.\n",
            "All rooms are clean!\n"
          ]
        }
      ],
      "source": [
        "class CustomVacuumCleaner:\n",
        "    def __init__(self, states, start_position):\n",
        "        self.rooms = states\n",
        "        self.position = start_position\n",
        "        self.loc = ['A', 'B']\n",
        "\n",
        "    def is_dirty(self):\n",
        "        return self.rooms[self.position] == 1\n",
        "\n",
        "    def clean(self):\n",
        "        if self.is_dirty():\n",
        "            print(f\"Cleaning room {self.loc[self.position]}\")\n",
        "            self.rooms[self.position] = 0\n",
        "        else:\n",
        "            print(f\"Room {self.loc[self.position]} is already clean.\")\n",
        "\n",
        "    def move(self):\n",
        "        if self.position == 0:\n",
        "            self.position = 1\n",
        "        else:\n",
        "            self.position = 0\n",
        "\n",
        "    def run(self):\n",
        "        cleaned = 0\n",
        "        while cleaned <= 1:\n",
        "            self.clean()\n",
        "            self.move()\n",
        "            cleaned += 1\n",
        "\n",
        "        print(\"All rooms are clean!\")\n",
        "\n",
        "\n",
        "a = int(input(\"Enter state for room A, 0 for clean and 1 for dirty \"))\n",
        "b = int(input(\"Enter state for room B, 0 for clean and 1 for dirty \"))\n",
        "states = [a, b]\n",
        "start_position = int(input(\"Enter start position, 0 for room A, 1 for room B \"))\n",
        "\n",
        "\n",
        "vacuum = CustomVacuumCleaner(states, start_position)\n",
        "vacuum.run()\n"
      ]
    }
  ]
}