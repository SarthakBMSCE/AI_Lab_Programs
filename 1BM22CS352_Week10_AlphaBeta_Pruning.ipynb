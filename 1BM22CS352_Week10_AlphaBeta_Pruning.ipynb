{
  "nbformat": 4,
  "nbformat_minor": 0,
  "metadata": {
    "colab": {
      "provenance": [],
      "authorship_tag": "ABX9TyMqVFxU7pDS6DAQdKEBGgdy",
      "include_colab_link": true
    },
    "kernelspec": {
      "name": "python3",
      "display_name": "Python 3"
    },
    "language_info": {
      "name": "python"
    }
  },
  "cells": [
    {
      "cell_type": "markdown",
      "metadata": {
        "id": "view-in-github",
        "colab_type": "text"
      },
      "source": [
        "<a href=\"https://colab.research.google.com/github/SarthakBMSCE/AI_Lab_Programs_1BM22CS352/blob/main/1BM22CS352_Week10_AlphaBeta_Pruning.ipynb\" target=\"_parent\"><img src=\"https://colab.research.google.com/assets/colab-badge.svg\" alt=\"Open In Colab\"/></a>"
      ]
    },
    {
      "cell_type": "code",
      "execution_count": 2,
      "metadata": {
        "colab": {
          "base_uri": "https://localhost:8080/"
        },
        "id": "MeOOrKYyvYob",
        "outputId": "a201b207-4748-4617-a63d-6dd3317928eb"
      },
      "outputs": [
        {
          "output_type": "stream",
          "name": "stdout",
          "text": [
            "Enter the depth of the tree: 3\n",
            "Enter the leaf node values for depth 3:\n",
            "Enter value for leaf node 1: 10\n",
            "Enter value for leaf node 2: 9\n",
            "Enter value for leaf node 3: 14\n",
            "Enter value for leaf node 4: 18\n",
            "Enter value for leaf node 5: 5\n",
            "Enter value for leaf node 6: 4\n",
            "Enter value for leaf node 7: 50\n",
            "Enter value for leaf node 8: 3\n",
            "Optimal value (using Alpha-Beta Pruning): 10\n"
          ]
        }
      ],
      "source": [
        "\n",
        "# Function to implement the Alpha-Beta Pruning\n",
        "def alpha_beta(depth, node_index, maximizing_player, values, alpha, beta):\n",
        "    # Base case: If the depth is 0, return the value at this node\n",
        "    if depth == 0:\n",
        "        return values[node_index]\n",
        "\n",
        "    if maximizing_player:\n",
        "        max_eval = -math.inf  # Start with a very small value\n",
        "        for i in range(2):  # Assuming binary tree structure with two children\n",
        "            eval_value = alpha_beta(depth - 1, node_index * 2 + i, False, values, alpha, beta)\n",
        "            max_eval = max(max_eval, eval_value)\n",
        "            alpha = max(alpha, eval_value)\n",
        "            if beta <= alpha:\n",
        "                break  # Beta cut-off\n",
        "        return max_eval\n",
        "    else:\n",
        "        min_eval = math.inf  # Start with a very large value\n",
        "        for i in range(2):  # Assuming binary tree structure with two children\n",
        "            eval_value = alpha_beta(depth - 1, node_index * 2 + i, True, values, alpha, beta)\n",
        "            min_eval = min(min_eval, eval_value)\n",
        "            beta = min(beta, eval_value)\n",
        "            if beta <= alpha:\n",
        "                break  # Alpha cut-off\n",
        "        return min_eval\n",
        "\n",
        "# Function to handle user input and run the alpha-beta pruning algorithm\n",
        "def main():\n",
        "    # Getting the tree depth and values from the user\n",
        "    depth = int(input(\"Enter the depth of the tree: \"))\n",
        "    num_nodes = 2 ** (depth + 1) - 1  # Number of nodes in a binary tree\n",
        "    values = []\n",
        "\n",
        "    print(f\"Enter the leaf node values for depth {depth}:\")\n",
        "    for i in range(2 ** depth):  # Leaf nodes are at the last level\n",
        "        value = int(input(f\"Enter value for leaf node {i+1}: \"))\n",
        "        values.append(value)\n",
        "\n",
        "    # Initialize alpha and beta\n",
        "    alpha = -math.inf\n",
        "    beta = math.inf\n",
        "\n",
        "    # Run Alpha-Beta Pruning algorithm for the root node\n",
        "    result = alpha_beta(depth, 0, True, values, alpha, beta)\n",
        "    print(f\"Optimal value (using Alpha-Beta Pruning): {result}\")\n",
        "\n",
        "if __name__ == \"__main__\":\n",
        "    main()"
      ]
    },
    {
      "cell_type": "code",
      "source": [],
      "metadata": {
        "id": "w4k-bl4gvsqK"
      },
      "execution_count": null,
      "outputs": []
    }
  ]
}