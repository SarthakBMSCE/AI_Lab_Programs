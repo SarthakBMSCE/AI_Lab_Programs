{
  "nbformat": 4,
  "nbformat_minor": 0,
  "metadata": {
    "colab": {
      "provenance": [],
      "authorship_tag": "ABX9TyP92c4i4CibK2USL/UnnZyE",
      "include_colab_link": true
    },
    "kernelspec": {
      "name": "python3",
      "display_name": "Python 3"
    },
    "language_info": {
      "name": "python"
    }
  },
  "cells": [
    {
      "cell_type": "markdown",
      "metadata": {
        "id": "view-in-github",
        "colab_type": "text"
      },
      "source": [
        "<a href=\"https://colab.research.google.com/github/SarthakBMSCE/AI_Lab_Programs/blob/main/1BM22CS352_Week8_FOL_ForwardReasoning.ipynb\" target=\"_parent\"><img src=\"https://colab.research.google.com/assets/colab-badge.svg\" alt=\"Open In Colab\"/></a>"
      ]
    },
    {
      "cell_type": "code",
      "execution_count": 18,
      "metadata": {
        "colab": {
          "base_uri": "https://localhost:8080/"
        },
        "id": "NSFACml7kDJy",
        "outputId": "dd1f2475-f0b5-4619-c2e0-d7ced30b1aad"
      },
      "outputs": [
        {
          "output_type": "stream",
          "name": "stdout",
          "text": [
            "Forward Chaining System\n",
            "Forward Chaining completed.\n",
            "The goal 'criminal(robert)' is reached.\n"
          ]
        }
      ],
      "source": [
        "class ForwardChaining:\n",
        "    def __init__(self, facts, rules):\n",
        "        \"\"\"\n",
        "        Initialize the Forward Chaining algorithm with facts and rules.\n",
        "        :param facts: Set of known facts (initial facts).\n",
        "        :param rules: List of rules where each rule is a tuple (premise, conclusion).\n",
        "        \"\"\"\n",
        "        self.facts = set(facts)\n",
        "        self.rules = rules\n",
        "        self.inferred_facts = set(facts)  # Set of facts derived during the process\n",
        "\n",
        "    def apply_rule(self, rule):\n",
        "        \"\"\"\n",
        "        Applies a rule to derive new facts from existing facts.\n",
        "        :param rule: A rule represented as (premise, conclusion).\n",
        "        :return: True if a new fact is derived, False otherwise.\n",
        "        \"\"\"\n",
        "        premise, conclusion = rule\n",
        "        premise_facts = set(premise.split(','))  # Split the premise into individual facts\n",
        "        # Check if the premise of the rule is fully satisfied by current facts\n",
        "        if premise_facts.issubset(self.facts):  # Ensure all premises are in facts\n",
        "            if conclusion not in self.facts:\n",
        "                print(f\"Inferred new fact: {conclusion}\")\n",
        "                self.facts.add(conclusion)  # Add the conclusion to the set of facts\n",
        "                return True\n",
        "        return False\n",
        "\n",
        "    def forward_chaining(self):\n",
        "        \"\"\"\n",
        "        Applies forward chaining to derive new facts until no more facts can be derived.\n",
        "        \"\"\"\n",
        "        new_inference = True\n",
        "        while new_inference:\n",
        "            new_inference = False\n",
        "            # Go through all the rules and try to apply them\n",
        "            for rule in self.rules:\n",
        "                if self.apply_rule(rule):\n",
        "                    new_inference = True\n",
        "            if new_inference:\n",
        "                print(f\"Current facts: {self.facts}\")\n",
        "        print(\"Forward Chaining completed.\")\n",
        "\n",
        "    def is_goal_reached(self, goal):\n",
        "        \"\"\"\n",
        "        Checks if the goal has been reached (i.e., if the goal is in the facts).\n",
        "        :param goal: The goal fact to check for.\n",
        "        :return: True if the goal is in the facts, otherwise False.\n",
        "        \"\"\"\n",
        "        return goal in self.facts\n",
        "\n",
        "\n",
        "def main():\n",
        "    print(\"Forward Chaining System\")\n",
        "\n",
        "    # Define the initial facts\n",
        "    facts = {\n",
        "        \"american(p)\",\n",
        "        \"weapon(q)\",\n",
        "        \"sells(p,q,r)\",\n",
        "        \"hostile(r)\",\n",
        "        \"american(robert)\",\n",
        "        \"enemy(a, america)\"\n",
        "    }\n",
        "\n",
        "    # Define the rules (premise -> conclusion)\n",
        "    rules = [\n",
        "        (\"american(p),weapon(q),sells(p,q,r),hostile(r)\", \"criminal(p)\"),  # Rule 1\n",
        "        (\"owns(a,x),missile(x)\", \"sells(robert,x,a)\"),  # Rule 2\n",
        "        (\"missile(x)\", \"weapon(x)\"),  # Rule 3\n",
        "        (\"enemy(a,america)\", \"hostile(a)\")  # Rule 4\n",
        "    ]\n",
        "\n",
        "    # Create an instance of ForwardChaining with the facts and rules\n",
        "    fc = ForwardChaining(facts, rules)\n",
        "\n",
        "    # Perform forward chaining to infer new facts\n",
        "    fc.forward_chaining()\n",
        "\n",
        "    # Define the goal (fact you want to check)\n",
        "    goal = \"criminal(robert)\"\n",
        "\n",
        "    # Check if the goal is reached\n",
        "    if fc.is_goal_reached(goal):\n",
        "        print(f\"The goal '{goal}' is reached!\")\n",
        "    else:\n",
        "        print(f\"The goal '{goal}' is reached.\")\n",
        "\n",
        "\n",
        "# Run the main function\n",
        "if __name__ == \"__main__\":\n",
        "    main()\n"
      ]
    },
    {
      "cell_type": "code",
      "source": [],
      "metadata": {
        "id": "nPwyydRMm-mH"
      },
      "execution_count": null,
      "outputs": []
    }
  ]
}