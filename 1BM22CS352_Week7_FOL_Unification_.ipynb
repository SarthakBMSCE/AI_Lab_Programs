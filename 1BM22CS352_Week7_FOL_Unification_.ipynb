{
  "nbformat": 4,
  "nbformat_minor": 0,
  "metadata": {
    "colab": {
      "provenance": [],
      "authorship_tag": "ABX9TyP3vNJduLJg5o89TIVrCQl8",
      "include_colab_link": true
    },
    "kernelspec": {
      "name": "python3",
      "display_name": "Python 3"
    },
    "language_info": {
      "name": "python"
    }
  },
  "cells": [
    {
      "cell_type": "markdown",
      "metadata": {
        "id": "view-in-github",
        "colab_type": "text"
      },
      "source": [
        "<a href=\"https://colab.research.google.com/github/SarthakBMSCE/AI_Lab_Programs/blob/main/1BM22CS352_Week7_FOL_Unification_.ipynb\" target=\"_parent\"><img src=\"https://colab.research.google.com/assets/colab-badge.svg\" alt=\"Open In Colab\"/></a>"
      ]
    },
    {
      "cell_type": "code",
      "execution_count": 8,
      "metadata": {
        "colab": {
          "base_uri": "https://localhost:8080/"
        },
        "id": "bL0-qKUJj85a",
        "outputId": "ce635696-d917-4af2-9012-8889a3264a6f"
      },
      "outputs": [
        {
          "output_type": "stream",
          "name": "stdout",
          "text": [
            "Please enter the first term (e.g., f(X, g(Y))):\n",
            "American(robert,x)\n",
            "Please enter the second term (e.g., f(a, g(b))):\n",
            "American(y,enemy)\n",
            "robert -> y\n",
            "x -> enemy\n"
          ]
        }
      ],
      "source": [
        "def occurs_check(var, term):\n",
        "    \"\"\"Checks if a variable occurs in a term.\"\"\"\n",
        "    if isinstance(term, str):  # Term is a constant\n",
        "        return False\n",
        "    elif isinstance(term, tuple):  # Term is a function (represented as a tuple)\n",
        "        # Recursively check the function arguments\n",
        "        if term[0] == var:\n",
        "            return True\n",
        "        return any(occurs_check(var, arg) for arg in term[1:])\n",
        "    return False\n",
        "\n",
        "def unify(psi1, psi2, subst=None):\n",
        "    \"\"\"Unify two terms psi1 and psi2 with the current substitution.\"\"\"\n",
        "    if subst is None:\n",
        "        subst = {}\n",
        "\n",
        "    # Step 1: If either term is a variable or constant\n",
        "    if isinstance(psi1, str):  # psi1 is a variable\n",
        "        if psi1 == psi2:  # Identical variables\n",
        "            return subst\n",
        "        elif psi1 in subst:  # psi1 already has a substitution\n",
        "            return unify(subst[psi1], psi2, subst)\n",
        "        elif occurs_check(psi1, psi2):  # Occurs check\n",
        "            return \"FAILURE\"\n",
        "        else:\n",
        "            subst[psi1] = psi2  # Create a new substitution\n",
        "            return subst\n",
        "\n",
        "    elif isinstance(psi2, str):  # psi2 is a variable\n",
        "        if psi2 == psi1:  # Identical variables\n",
        "            return subst\n",
        "        elif psi2 in subst:  # psi2 already has a substitution\n",
        "            return unify(psi1, subst[psi2], subst)\n",
        "        elif occurs_check(psi2, psi1):  # Occurs check\n",
        "            return \"FAILURE\"\n",
        "        else:\n",
        "            subst[psi2] = psi1  # Create a new substitution\n",
        "            return subst\n",
        "\n",
        "    # Step 2: Check if the initial predicate symbols match\n",
        "    if isinstance(psi1, tuple) and isinstance(psi2, tuple):\n",
        "        if psi1[0] != psi2[0]:  # Predicate symbols don't match\n",
        "            return \"FAILURE\"\n",
        "\n",
        "    # Step 3: Check if they have the same number of arguments\n",
        "    if isinstance(psi1, tuple) and isinstance(psi2, tuple):\n",
        "        if len(psi1) != len(psi2):  # Different number of arguments\n",
        "            return \"FAILURE\"\n",
        "\n",
        "    # Step 4: Initialize the substitution set (already initialized as `subst`)\n",
        "\n",
        "    # Step 5: Iterate through the arguments of psi1 and psi2\n",
        "    if isinstance(psi1, tuple) and isinstance(psi2, tuple):\n",
        "        for arg1, arg2 in zip(psi1[1:], psi2[1:]):\n",
        "            # Recursively unify the arguments\n",
        "            result = unify(arg1, arg2, subst)\n",
        "            if result == \"FAILURE\":\n",
        "                return \"FAILURE\"\n",
        "            elif result != subst:\n",
        "                subst = result  # Update the substitution set\n",
        "\n",
        "    # Step 6: Return the final substitution set\n",
        "    return subst\n",
        "\n",
        "# Helper function to display the substitution in a readable format\n",
        "def print_substitution(subst):\n",
        "    if subst == \"FAILURE\":\n",
        "        print(\"FAILURE\")\n",
        "    else:\n",
        "        for var, val in subst.items():\n",
        "            print(f\"{var} -> {val}\")\n",
        "\n",
        "# Helper function to parse the user input into the required format\n",
        "def parse_input(input_str):\n",
        "    \"\"\"Parse the input string into a tuple representing the term.\"\"\"\n",
        "    input_str = input_str.strip()\n",
        "    if '(' in input_str and ')' in input_str:\n",
        "        # Extract the predicate and arguments\n",
        "        predicate, args = input_str.split('(', 1)\n",
        "        args = args.rstrip(')').split(',')\n",
        "        args = [parse_input(arg.strip()) if '(' in arg else arg.strip() for arg in args]\n",
        "        return (predicate.strip(), *args)\n",
        "    else:\n",
        "        # Single term, assume it's a constant or a variable\n",
        "        return input_str.strip()\n",
        "\n",
        "# Main function to handle user input and unification\n",
        "def main():\n",
        "    print(\"Please enter the first term (e.g., f(X, g(Y))):\")\n",
        "    term1 = input().strip()\n",
        "\n",
        "    print(\"Please enter the second term (e.g., f(a, g(b))):\")\n",
        "    term2 = input().strip()\n",
        "\n",
        "    # Parse the user input into structured terms\n",
        "    psi1 = parse_input(term1)\n",
        "    psi2 = parse_input(term2)\n",
        "\n",
        "    # Unify the terms and print the result\n",
        "    substitution = unify(psi1, psi2)\n",
        "    print_substitution(substitution)\n",
        "\n",
        "# Run the main function\n",
        "if __name__ == \"__main__\":\n",
        "    main()\n"
      ]
    },
    {
      "cell_type": "code",
      "source": [],
      "metadata": {
        "id": "Y1p8y_bfki_n"
      },
      "execution_count": 5,
      "outputs": []
    }
  ]
}